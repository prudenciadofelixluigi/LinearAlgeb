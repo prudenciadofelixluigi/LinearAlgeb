{
  "nbformat": 4,
  "nbformat_minor": 0,
  "metadata": {
    "colab": {
      "name": "Assignment2.ipynb",
      "provenance": [],
      "authorship_tag": "ABX9TyMKo21Os6B2RSjRkUw1+/OK",
      "include_colab_link": true
    },
    "kernelspec": {
      "name": "python3",
      "display_name": "Python 3"
    },
    "language_info": {
      "name": "python"
    }
  },
  "cells": [
    {
      "cell_type": "markdown",
      "metadata": {
        "id": "view-in-github",
        "colab_type": "text"
      },
      "source": [
        "<a href=\"https://colab.research.google.com/github/prudenciadofelixluigi/LinearAlgeb/blob/main/Assignment2.ipynb\" target=\"_parent\"><img src=\"https://colab.research.google.com/assets/colab-badge.svg\" alt=\"Open In Colab\"/></a>"
      ]
    },
    {
      "cell_type": "markdown",
      "metadata": {
        "id": "tLxoxTeX16lk"
      },
      "source": [
        "# Welcome to Python Fundamentals\n",
        "In this module, we are going to establish our skills in python programming. In this notebook we are going to cover:\n",
        "\n",
        "\n",
        "\n",
        "*   Variables and Data Types\n",
        "*   Operations \n",
        "*   Input and Output Operations \n",
        "*   Logic Control\n",
        "\n",
        "\n",
        "\n"
      ]
    },
    {
      "cell_type": "markdown",
      "metadata": {
        "id": "rRfR3P_h3G6E"
      },
      "source": [
        "# Variables and Data Types"
      ]
    },
    {
      "cell_type": "code",
      "metadata": {
        "id": "Je5b10jx3NN8"
      },
      "source": [
        "x = 1\n",
        "a, b = 3, -2"
      ],
      "execution_count": null,
      "outputs": []
    },
    {
      "cell_type": "code",
      "metadata": {
        "colab": {
          "base_uri": "https://localhost:8080/"
        },
        "id": "Bm-IUGVw3hoh",
        "outputId": "ffaaedd3-fcf8-4c87-e924-1751b112ed7a"
      },
      "source": [
        "type(x)"
      ],
      "execution_count": null,
      "outputs": [
        {
          "output_type": "execute_result",
          "data": {
            "text/plain": [
              "method"
            ]
          },
          "metadata": {},
          "execution_count": 14
        }
      ]
    },
    {
      "cell_type": "code",
      "metadata": {
        "colab": {
          "base_uri": "https://localhost:8080/"
        },
        "id": "oAhEJ0s538zz",
        "outputId": "923831a8-5069-4e4e-c9a4-7798fd1aea85"
      },
      "source": [
        "y = 3.0\n",
        "type(y)"
      ],
      "execution_count": null,
      "outputs": [
        {
          "output_type": "execute_result",
          "data": {
            "text/plain": [
              "float"
            ]
          },
          "metadata": {},
          "execution_count": 13
        }
      ]
    },
    {
      "cell_type": "code",
      "metadata": {
        "colab": {
          "base_uri": "https://localhost:8080/"
        },
        "id": "iCMxIjtv4BL5",
        "outputId": "bd810a51-d1dd-4995-db98-1c6f1d6910ac"
      },
      "source": [
        "x = float(x)\n",
        "type(x)"
      ],
      "execution_count": null,
      "outputs": [
        {
          "output_type": "execute_result",
          "data": {
            "text/plain": [
              "float"
            ]
          },
          "metadata": {},
          "execution_count": 16
        }
      ]
    },
    {
      "cell_type": "markdown",
      "metadata": {
        "id": "ZKkx9Q144rp-"
      },
      "source": [
        "## Operations\n"
      ]
    },
    {
      "cell_type": "markdown",
      "metadata": {
        "id": "CjI8mU1z47lz"
      },
      "source": [
        "### Arithmetic"
      ]
    },
    {
      "cell_type": "code",
      "metadata": {
        "id": "jGnxXgQW4_3F"
      },
      "source": [
        "w, x, y, z = 4.0, -3.0, 1, 32"
      ],
      "execution_count": null,
      "outputs": []
    },
    {
      "cell_type": "code",
      "metadata": {
        "colab": {
          "base_uri": "https://localhost:8080/"
        },
        "id": "vOi87D3r6CC7",
        "outputId": "af52edb8-2b99-42ee-b21e-2500866fcbbe"
      },
      "source": [
        "### addition\n",
        "S = w + x\n",
        "S"
      ],
      "execution_count": null,
      "outputs": [
        {
          "output_type": "execute_result",
          "data": {
            "text/plain": [
              "1.0"
            ]
          },
          "metadata": {},
          "execution_count": 29
        }
      ]
    },
    {
      "cell_type": "code",
      "metadata": {
        "colab": {
          "base_uri": "https://localhost:8080/"
        },
        "id": "nE01Ipaa6NoK",
        "outputId": "207abf67-fd8c-400c-c8b8-d516fa29e7e6"
      },
      "source": [
        "### multiplication\n",
        "D = w*z\n",
        "D"
      ],
      "execution_count": null,
      "outputs": [
        {
          "output_type": "execute_result",
          "data": {
            "text/plain": [
              "128.0"
            ]
          },
          "metadata": {},
          "execution_count": 30
        }
      ]
    },
    {
      "cell_type": "code",
      "metadata": {
        "colab": {
          "base_uri": "https://localhost:8080/"
        },
        "id": "aCFYpVtT6Zsm",
        "outputId": "f539fb13-3650-4cd4-dee6-3e38da22dbc4"
      },
      "source": [
        "### Floor Division\n",
        "Qf = w//x\n",
        "Qf"
      ],
      "execution_count": null,
      "outputs": [
        {
          "output_type": "execute_result",
          "data": {
            "text/plain": [
              "-2.0"
            ]
          },
          "metadata": {},
          "execution_count": 31
        }
      ]
    },
    {
      "cell_type": "code",
      "metadata": {
        "colab": {
          "base_uri": "https://localhost:8080/"
        },
        "id": "D90ynz2z7FX2",
        "outputId": "f48e1f27-634b-433c-db59-e36f187805eb"
      },
      "source": [
        "### Exponentiation\n",
        "E = w**w\n",
        "E"
      ],
      "execution_count": null,
      "outputs": [
        {
          "output_type": "execute_result",
          "data": {
            "text/plain": [
              "256.0"
            ]
          },
          "metadata": {},
          "execution_count": 33
        }
      ]
    },
    {
      "cell_type": "code",
      "metadata": {
        "colab": {
          "base_uri": "https://localhost:8080/"
        },
        "id": "ElBQbLS67h4G",
        "outputId": "4072b2ee-085e-4467-ba2e-4a108a424d73"
      },
      "source": [
        "### Modulo\n",
        "mod = z%x\n",
        "mod"
      ],
      "execution_count": null,
      "outputs": [
        {
          "output_type": "execute_result",
          "data": {
            "text/plain": [
              "-1.0"
            ]
          },
          "metadata": {},
          "execution_count": 35
        }
      ]
    },
    {
      "cell_type": "markdown",
      "metadata": {
        "id": "OKWfdwRq71wO"
      },
      "source": [
        "# Assignment"
      ]
    },
    {
      "cell_type": "code",
      "metadata": {
        "id": "zM0LMNWi8JkX"
      },
      "source": [
        "A, B, C, D = 0, 100, 2, 1"
      ],
      "execution_count": null,
      "outputs": []
    },
    {
      "cell_type": "code",
      "metadata": {
        "colab": {
          "base_uri": "https://localhost:8080/"
        },
        "id": "f68hWsJb8O6T",
        "outputId": "5e548ecd-f138-4786-994a-df6fd208a40e"
      },
      "source": [
        "A +- w\n",
        "A"
      ],
      "execution_count": null,
      "outputs": [
        {
          "output_type": "execute_result",
          "data": {
            "text/plain": [
              "0"
            ]
          },
          "metadata": {},
          "execution_count": 42
        }
      ]
    },
    {
      "cell_type": "code",
      "metadata": {
        "colab": {
          "base_uri": "https://localhost:8080/"
        },
        "id": "fHMW5qqW8fR0",
        "outputId": "7fa6e814-12e3-4dcf-860b-d891f6158269"
      },
      "source": [
        "B-=x\n",
        "B"
      ],
      "execution_count": null,
      "outputs": [
        {
          "output_type": "execute_result",
          "data": {
            "text/plain": [
              "106.0"
            ]
          },
          "metadata": {},
          "execution_count": 66
        }
      ]
    },
    {
      "cell_type": "code",
      "metadata": {
        "colab": {
          "base_uri": "https://localhost:8080/"
        },
        "id": "Jm4mtz7m8pbZ",
        "outputId": "4fb003d0-62ab-4d6e-a193-dc61b9e8f279"
      },
      "source": [
        "C *= w\n",
        "C"
      ],
      "execution_count": null,
      "outputs": [
        {
          "output_type": "execute_result",
          "data": {
            "text/plain": [
              "32.0"
            ]
          },
          "metadata": {},
          "execution_count": 50
        }
      ]
    },
    {
      "cell_type": "code",
      "metadata": {
        "colab": {
          "base_uri": "https://localhost:8080/"
        },
        "id": "2y5djIdq9UtJ",
        "outputId": "30afd665-91fb-416c-e419-2a07573917d6"
      },
      "source": [
        "D/= x\n",
        "D"
      ],
      "execution_count": null,
      "outputs": [
        {
          "output_type": "execute_result",
          "data": {
            "text/plain": [
              "0.0013717421124828531"
            ]
          },
          "metadata": {},
          "execution_count": 56
        }
      ]
    },
    {
      "cell_type": "code",
      "metadata": {
        "colab": {
          "base_uri": "https://localhost:8080/",
          "height": 180
        },
        "id": "-zIRZsIs9f5s",
        "outputId": "090cca6c-6211-4031-af8f-9b4bbabff761"
      },
      "source": [
        "C **= x\n",
        "C"
      ],
      "execution_count": null,
      "outputs": [
        {
          "output_type": "error",
          "ename": "OverflowError",
          "evalue": "ignored",
          "traceback": [
            "\u001b[0;31m---------------------------------------------------------------------------\u001b[0m",
            "\u001b[0;31mOverflowError\u001b[0m                             Traceback (most recent call last)",
            "\u001b[0;32m<ipython-input-64-be7c2bb65b9e>\u001b[0m in \u001b[0;36m<module>\u001b[0;34m()\u001b[0m\n\u001b[0;32m----> 1\u001b[0;31m \u001b[0mC\u001b[0m \u001b[0;34m**=\u001b[0m \u001b[0mx\u001b[0m\u001b[0;34m\u001b[0m\u001b[0;34m\u001b[0m\u001b[0m\n\u001b[0m\u001b[1;32m      2\u001b[0m \u001b[0mC\u001b[0m\u001b[0;34m\u001b[0m\u001b[0;34m\u001b[0m\u001b[0m\n",
            "\u001b[0;31mOverflowError\u001b[0m: (34, 'Numerical result out of range')"
          ]
        }
      ]
    },
    {
      "cell_type": "markdown",
      "metadata": {
        "id": "pF5U3yxU-VFj"
      },
      "source": [
        "# Comparators "
      ]
    },
    {
      "cell_type": "code",
      "metadata": {
        "id": "RmVCdtPO-aJw"
      },
      "source": [
        "size_1, size_2, size_3 = 1, 2.0, \"1\"\n",
        "true_size = 1.0"
      ],
      "execution_count": null,
      "outputs": []
    },
    {
      "cell_type": "code",
      "metadata": {
        "colab": {
          "base_uri": "https://localhost:8080/"
        },
        "id": "huhpamaK-hms",
        "outputId": "40dc98fd-1322-4fcb-c302-3603a28d0dbb"
      },
      "source": [
        "## equality\n",
        "size_1 == true_size"
      ],
      "execution_count": null,
      "outputs": [
        {
          "output_type": "execute_result",
          "data": {
            "text/plain": [
              "True"
            ]
          },
          "metadata": {},
          "execution_count": 69
        }
      ]
    },
    {
      "cell_type": "code",
      "metadata": {
        "colab": {
          "base_uri": "https://localhost:8080/"
        },
        "id": "Rle0cb76-2kn",
        "outputId": "9d508e79-7ddb-419e-c9ab-36c729b15674"
      },
      "source": [
        "## Non-Equality\n",
        "size_2 != true_size"
      ],
      "execution_count": null,
      "outputs": [
        {
          "output_type": "execute_result",
          "data": {
            "text/plain": [
              "True"
            ]
          },
          "metadata": {},
          "execution_count": 73
        }
      ]
    },
    {
      "cell_type": "code",
      "metadata": {
        "colab": {
          "base_uri": "https://localhost:8080/"
        },
        "id": "vcoa-ZdG_BHq",
        "outputId": "1c708e85-7a87-4fa8-9d1a-4551fbeafdaf"
      },
      "source": [
        "## Inequality\n",
        "s1 = size_1 > size_2\n",
        "s2 = size_2 < size_2/2\n",
        "s3 = true_size >= size_1\n",
        "s4 = size_2 <= true_size\n"
      ],
      "execution_count": null,
      "outputs": [
        {
          "output_type": "execute_result",
          "data": {
            "text/plain": [
              "False"
            ]
          },
          "metadata": {},
          "execution_count": 87
        }
      ]
    },
    {
      "cell_type": "markdown",
      "metadata": {
        "id": "1-V7rojp_3cP"
      },
      "source": [
        "### Logical Operations"
      ]
    },
    {
      "cell_type": "code",
      "metadata": {
        "colab": {
          "base_uri": "https://localhost:8080/"
        },
        "id": "zE5AJ7SS_6FS",
        "outputId": "a3585f00-9981-4f55-d21a-245da8573dbc"
      },
      "source": [
        "size_1 == true_size\n",
        "size_1"
      ],
      "execution_count": null,
      "outputs": [
        {
          "output_type": "execute_result",
          "data": {
            "text/plain": [
              "1"
            ]
          },
          "metadata": {},
          "execution_count": 88
        }
      ]
    },
    {
      "cell_type": "code",
      "metadata": {
        "colab": {
          "base_uri": "https://localhost:8080/"
        },
        "id": "YjgaRK1_AG_5",
        "outputId": "d118ef8e-c3c7-4168-85ff-a8ea03f580fa"
      },
      "source": [
        "size_1 is true_size"
      ],
      "execution_count": null,
      "outputs": [
        {
          "output_type": "execute_result",
          "data": {
            "text/plain": [
              "False"
            ]
          },
          "metadata": {},
          "execution_count": 89
        }
      ]
    },
    {
      "cell_type": "code",
      "metadata": {
        "colab": {
          "base_uri": "https://localhost:8080/"
        },
        "id": "TTO0IEZyAaMK",
        "outputId": "7aea5dd0-b978-49e3-b75b-c0475c7e86e9"
      },
      "source": [
        "size_1 is not true_size"
      ],
      "execution_count": null,
      "outputs": [
        {
          "output_type": "execute_result",
          "data": {
            "text/plain": [
              "True"
            ]
          },
          "metadata": {},
          "execution_count": 91
        }
      ]
    },
    {
      "cell_type": "code",
      "metadata": {
        "colab": {
          "base_uri": "https://localhost:8080/"
        },
        "id": "B9QxUqs5AhRa",
        "outputId": "89f12551-d276-4a38-a23c-b629fccfca48"
      },
      "source": [
        "p, q = True, False\n",
        "conj = p and q\n",
        "conj"
      ],
      "execution_count": null,
      "outputs": [
        {
          "output_type": "execute_result",
          "data": {
            "text/plain": [
              "False"
            ]
          },
          "metadata": {},
          "execution_count": 93
        }
      ]
    },
    {
      "cell_type": "code",
      "metadata": {
        "colab": {
          "base_uri": "https://localhost:8080/"
        },
        "id": "y4fvDcTbA-nr",
        "outputId": "22e00966-b79c-4b84-e19b-7bf0393b6c26"
      },
      "source": [
        "disj = p or q\n",
        "disj"
      ],
      "execution_count": null,
      "outputs": [
        {
          "output_type": "execute_result",
          "data": {
            "text/plain": [
              "True"
            ]
          },
          "metadata": {},
          "execution_count": 94
        }
      ]
    },
    {
      "cell_type": "code",
      "metadata": {
        "colab": {
          "base_uri": "https://localhost:8080/"
        },
        "id": "QWslCN0yBPQX",
        "outputId": "ee1795f9-20b8-41e1-fbd3-5eaf61b0dd04"
      },
      "source": [
        "nand = not(p and q)\n",
        "nand"
      ],
      "execution_count": null,
      "outputs": [
        {
          "output_type": "execute_result",
          "data": {
            "text/plain": [
              "True"
            ]
          },
          "metadata": {},
          "execution_count": 95
        }
      ]
    },
    {
      "cell_type": "markdown",
      "metadata": {
        "id": "eVbQ4t1nBzb0"
      },
      "source": [
        "## Input and Output"
      ]
    },
    {
      "cell_type": "code",
      "metadata": {
        "colab": {
          "base_uri": "https://localhost:8080/"
        },
        "id": "QFyn6em0B3Fm",
        "outputId": "7a86253a-283d-4174-b07a-5ee95e0d3c56"
      },
      "source": [
        "print(\"Hello World! Kumusta Kana\")"
      ],
      "execution_count": null,
      "outputs": [
        {
          "output_type": "stream",
          "name": "stdout",
          "text": [
            "Hello World! Kumusta Kana\n"
          ]
        }
      ]
    },
    {
      "cell_type": "code",
      "metadata": {
        "id": "f966aTdeCFrY"
      },
      "source": [
        "cnt = 14000"
      ],
      "execution_count": null,
      "outputs": []
    },
    {
      "cell_type": "code",
      "metadata": {
        "colab": {
          "base_uri": "https://localhost:8080/"
        },
        "id": "M9fH6oO2CIYI",
        "outputId": "b22d0c90-9ccb-4729-cd0a-b33b5510eb9b"
      },
      "source": [
        "string = \"Hello World!\"\n",
        "print(string, \", Current COVID count is:\", cnt)\n",
        "cnt += 10000"
      ],
      "execution_count": null,
      "outputs": [
        {
          "output_type": "stream",
          "name": "stdout",
          "text": [
            "Hello World! , Current COVID count is: 24000\n"
          ]
        }
      ]
    },
    {
      "cell_type": "code",
      "metadata": {
        "colab": {
          "base_uri": "https://localhost:8080/",
          "height": 129
        },
        "id": "j32WnFiwDAI_",
        "outputId": "81f4ec95-e626-485a-c942-8035d66c6ff8"
      },
      "source": [
        "print(f\"{string}, current count is:\" {cnt}\")\n"
      ],
      "execution_count": null,
      "outputs": [
        {
          "output_type": "error",
          "ename": "SyntaxError",
          "evalue": "ignored",
          "traceback": [
            "\u001b[0;36m  File \u001b[0;32m\"<ipython-input-151-c05e73f1ef71>\"\u001b[0;36m, line \u001b[0;32m1\u001b[0m\n\u001b[0;31m    print(f\"{string}, current count is:\" {cnt}\")\u001b[0m\n\u001b[0m                                         ^\u001b[0m\n\u001b[0;31mSyntaxError\u001b[0m\u001b[0;31m:\u001b[0m invalid syntax\n"
          ]
        }
      ]
    },
    {
      "cell_type": "code",
      "metadata": {
        "colab": {
          "base_uri": "https://localhost:8080/"
        },
        "id": "B_YszWMAEAzO",
        "outputId": "5965c7dc-0b96-4161-982f-009fed01d6e8"
      },
      "source": [
        "sem_grade = 86.25\n",
        "name = \"Eugene\"\n",
        "print( \"Hello {} your semestral grade is: {}\" .format(name, sem_grade))"
      ],
      "execution_count": null,
      "outputs": [
        {
          "output_type": "stream",
          "name": "stdout",
          "text": [
            "Hello Eugene your semestral grade is: 86.25\n"
          ]
        }
      ]
    },
    {
      "cell_type": "code",
      "metadata": {
        "colab": {
          "base_uri": "https://localhost:8080/",
          "height": 129
        },
        "id": "punF60a3Ibuj",
        "outputId": "a1064505-a802-438a-85ac-8a3dad727c88"
      },
      "source": [
        "pg, mg, fg = 0.3, 0.3, 0.4\n",
        "print( \"The weights of your semestral grades are:\\\n",
        "\\n\\t {:.2%} for Prelims\\ \n",
        "\\n\\t {:.2%} for Midterms, and\\ \n",
        "\\n\\t {:.2%} for Finals.\" .format(pg, mg, fg) )"
      ],
      "execution_count": null,
      "outputs": [
        {
          "output_type": "error",
          "ename": "SyntaxError",
          "evalue": "ignored",
          "traceback": [
            "\u001b[0;36m  File \u001b[0;32m\"<ipython-input-154-047d6a2a6078>\"\u001b[0;36m, line \u001b[0;32m2\u001b[0m\n\u001b[0;31m    print( \"The weights of your semestral grades are:\\n\\t {:.2%} for Prelims\\\u001b[0m\n\u001b[0m                                                                              ^\u001b[0m\n\u001b[0;31mSyntaxError\u001b[0m\u001b[0;31m:\u001b[0m EOL while scanning string literal\n"
          ]
        }
      ]
    },
    {
      "cell_type": "markdown",
      "metadata": {
        "id": "AKgfNSDxLQVp"
      },
      "source": [
        "### Looping Statements"
      ]
    },
    {
      "cell_type": "markdown",
      "metadata": {
        "id": "QrPRYW0wLWT3"
      },
      "source": [
        "## While"
      ]
    },
    {
      "cell_type": "code",
      "metadata": {
        "colab": {
          "base_uri": "https://localhost:8080/"
        },
        "id": "B-2nvsiJLZtk",
        "outputId": "2da708a1-5d34-4b4c-a34e-d3391db8e837"
      },
      "source": [
        "## while loops\n",
        "i, j = 0, 10\n",
        "while(i<=j):\n",
        "    print(f\"{i}\\t|t{j}\")\n",
        "    i += 1"
      ],
      "execution_count": null,
      "outputs": [
        {
          "output_type": "stream",
          "name": "stdout",
          "text": [
            "0\t|t10\n",
            "1\t|t10\n",
            "2\t|t10\n",
            "3\t|t10\n",
            "4\t|t10\n",
            "5\t|t10\n",
            "6\t|t10\n",
            "7\t|t10\n",
            "8\t|t10\n",
            "9\t|t10\n",
            "10\t|t10\n"
          ]
        }
      ]
    },
    {
      "cell_type": "markdown",
      "metadata": {
        "id": "1wr9impWMX8i"
      },
      "source": [
        "For"
      ]
    },
    {
      "cell_type": "code",
      "metadata": {
        "colab": {
          "base_uri": "https://localhost:8080/"
        },
        "id": "jNrKlu2HMZow",
        "outputId": "53d6dc17-7cdd-4e30-ed90-0e8515e1cafe"
      },
      "source": [
        "# for(int = 0; i<10; i++)\n",
        "#printf(i)\n",
        "#}\n",
        "\n",
        "i = 0\n",
        "for i in range (11):\n",
        "  print(1)"
      ],
      "execution_count": null,
      "outputs": [
        {
          "output_type": "stream",
          "name": "stdout",
          "text": [
            "1\n",
            "1\n",
            "1\n",
            "1\n",
            "1\n",
            "1\n",
            "1\n",
            "1\n",
            "1\n",
            "1\n",
            "1\n"
          ]
        }
      ]
    },
    {
      "cell_type": "code",
      "metadata": {
        "colab": {
          "base_uri": "https://localhost:8080/"
        },
        "id": "hj3nacsqMral",
        "outputId": "1e02ff2e-a34c-4d61-8185-2d5d01245025"
      },
      "source": [
        "Playlist = [\"Bahay Kubo\", \"Magandang Dilag\", \"Buko\"]\n",
        "print('Now Playing:\\n')\n",
        "for song in Playlist:\n",
        "  print(song)"
      ],
      "execution_count": null,
      "outputs": [
        {
          "output_type": "stream",
          "name": "stdout",
          "text": [
            "Now Playing:\n",
            "\n",
            "Bahay Kubo\n",
            "Magandang Dilag\n",
            "Buko\n"
          ]
        }
      ]
    },
    {
      "cell_type": "markdown",
      "metadata": {
        "id": "v8ydqfkgNUWZ"
      },
      "source": [
        "## Flow Control"
      ]
    },
    {
      "cell_type": "code",
      "metadata": {
        "colab": {
          "base_uri": "https://localhost:8080/"
        },
        "id": "8xkr14xoNWzd",
        "outputId": "48272a58-ec49-47d4-ddd5-54c65b06b7c8"
      },
      "source": [
        "num_1, num_2 = 14, 13\n",
        "if(num_1 == num_2):\n",
        "    print(\"HAHA\")\n",
        "elif(num_1>num_2):\n",
        "    print(\"HOHO\")\n",
        "else:\n",
        "    print(\"HUHU\")    "
      ],
      "execution_count": null,
      "outputs": [
        {
          "output_type": "stream",
          "name": "stdout",
          "text": [
            "HOHO\n"
          ]
        }
      ]
    },
    {
      "cell_type": "markdown",
      "metadata": {
        "id": "cHh7cGhIN9kj"
      },
      "source": [
        "## Functions"
      ]
    },
    {
      "cell_type": "code",
      "metadata": {
        "id": "94q1cIVMOAE8"
      },
      "source": [
        "# voide DeleteUser (int userid){\n",
        "#   delete(userid);\n",
        "#}\n",
        "\n",
        "def delete_user (userid):\n",
        "  print(\"Successfully deleted user: {}\" .format(userid))"
      ],
      "execution_count": null,
      "outputs": []
    },
    {
      "cell_type": "code",
      "metadata": {
        "colab": {
          "base_uri": "https://localhost:8080/"
        },
        "id": "LTvm8s8dOdal",
        "outputId": "85c38249-1776-4aab-8a95-ccd17cf0a6d0"
      },
      "source": [
        "userid = 2020_100100\n",
        "delete_user(2020_100100)"
      ],
      "execution_count": null,
      "outputs": [
        {
          "output_type": "stream",
          "name": "stdout",
          "text": [
            "Successfully deleted user: 2020100100\n"
          ]
        }
      ]
    },
    {
      "cell_type": "code",
      "metadata": {
        "id": "VbIESBeGO_EK"
      },
      "source": [
        "addend1, addend2 = 5, 6"
      ],
      "execution_count": null,
      "outputs": []
    },
    {
      "cell_type": "code",
      "metadata": {
        "id": "Deh8Bg20OzcS"
      },
      "source": [
        "def add(addend1, addend2):\n",
        "    sum = addend1 + addend2\n",
        "    return sum"
      ],
      "execution_count": null,
      "outputs": []
    },
    {
      "cell_type": "code",
      "metadata": {
        "colab": {
          "base_uri": "https://localhost:8080/"
        },
        "id": "A_i0of1YP1dl",
        "outputId": "8e0ee1a8-94d7-4b90-921d-48c8a160eafe"
      },
      "source": [
        "add(5, 4)"
      ],
      "execution_count": null,
      "outputs": [
        {
          "output_type": "execute_result",
          "data": {
            "text/plain": [
              "9"
            ]
          },
          "metadata": {},
          "execution_count": 180
        }
      ]
    }
  ]
}